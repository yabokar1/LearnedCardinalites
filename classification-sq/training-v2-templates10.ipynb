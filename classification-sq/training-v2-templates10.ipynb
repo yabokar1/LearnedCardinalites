{
 "cells": [
  {
   "cell_type": "code",
   "execution_count": 1,
   "metadata": {},
   "outputs": [],
   "source": [
    "import pandas as pd\n",
    "import numpy as np\n",
    "import time\n",
    "import torch\n",
    "import csv\n",
    "from util_v3 import *\n",
    "from data_v3 import load_data, get_train_datasets\n",
    "from model_v3 import *\n",
    "from torch.utils.data import dataset\n",
    "from torch.utils.data import DataLoader\n",
    "from torch.autograd import Variable\n",
    "\n",
    "# from mscn.data import load_data\n",
    "\n",
    "import torch\n",
    "import torch.nn as nn\n",
    "import torch.nn.functional as F\n",
    "# from mscn.data import get_train_datasets, load_data, make_dataset"
   ]
  },
  {
   "cell_type": "code",
   "execution_count": 2,
   "metadata": {},
   "outputs": [],
   "source": [
    "num_classes = 10"
   ]
  },
  {
   "cell_type": "markdown",
   "metadata": {},
   "source": [
    "## load and encode train data by calling the function"
   ]
  },
  {
   "cell_type": "code",
   "execution_count": 3,
   "metadata": {},
   "outputs": [
    {
     "name": "stdout",
     "output_type": "stream",
     "text": [
      "Loaded queries\n",
      "Number of training samples: 9756\n",
      "Number of validation samples: 1084\n",
      "Created TensorDataset for training data\n",
      "Created TensorDataset for validation data\n"
     ]
    }
   ],
   "source": [
    "# loading the datasets with num of templates=10\n",
    "dataset_name = 'tpcds_10'\n",
    "\n",
    "dicts, column_min_max_vals, labels_train, labels_test, max_num_joins, max_num_predicates, train_data, test_data = get_train_datasets(dataset_name)"
   ]
  },
  {
   "cell_type": "code",
   "execution_count": 4,
   "metadata": {},
   "outputs": [],
   "source": [
    "num_epochs = 10\n",
    "batch_size = 1\n",
    "hid_units = 256\n",
    "cuda = False\n",
    "\n",
    "num_materialized_samples = 0"
   ]
  },
  {
   "cell_type": "code",
   "execution_count": 5,
   "metadata": {},
   "outputs": [
    {
     "data": {
      "text/plain": [
       "SetConv(\n",
       "  (sample_mlp1): Linear(in_features=26, out_features=256, bias=True)\n",
       "  (sample_mlp2): Linear(in_features=256, out_features=256, bias=True)\n",
       "  (predicate_mlp1): Linear(in_features=29, out_features=256, bias=True)\n",
       "  (predicate_mlp2): Linear(in_features=256, out_features=256, bias=True)\n",
       "  (join_mlp1): Linear(in_features=56, out_features=256, bias=True)\n",
       "  (join_mlp2): Linear(in_features=256, out_features=256, bias=True)\n",
       "  (out_mlp1): Linear(in_features=768, out_features=256, bias=True)\n",
       "  (out_mlp2): Linear(in_features=256, out_features=10, bias=True)\n",
       ")"
      ]
     },
     "execution_count": 5,
     "metadata": {},
     "output_type": "execute_result"
    }
   ],
   "source": [
    "table2vec, column2vec, op2vec, join2vec = dicts\n",
    "\n",
    "num_materialized_samples = 0\n",
    "\n",
    "# Train model\n",
    "sample_feats = len(table2vec) + num_materialized_samples\n",
    "predicate_feats = len(column2vec) + len(op2vec) + 1\n",
    "join_feats = len(join2vec)\n",
    "\n",
    "model = SetConv(sample_feats, predicate_feats, join_feats, hid_units, num_classes)\n",
    "\n",
    "optimizer = torch.optim.Adam(model.parameters(), lr=0.001)\n",
    "\n",
    "train_data_loader = DataLoader(train_data, batch_size=batch_size, shuffle=True)\n",
    "\n",
    "model.train()"
   ]
  },
  {
   "cell_type": "code",
   "execution_count": 6,
   "metadata": {},
   "outputs": [
    {
     "name": "stdout",
     "output_type": "stream",
     "text": [
      "Epoch 0 Accuracy  0.86\n",
      "Epoch 1 Accuracy  0.89\n",
      "Epoch 2 Accuracy  0.51\n",
      "Epoch 3 Accuracy  0.41\n",
      "Epoch 4 Accuracy  0.32\n",
      "Epoch 5 Accuracy  0.11\n",
      "Epoch 6 Accuracy  0.11\n",
      "Epoch 7 Accuracy  0.11\n",
      "Epoch 8 Accuracy  0.11\n",
      "Epoch 9 Accuracy  0.11\n"
     ]
    }
   ],
   "source": [
    "loss_fn = nn.CrossEntropyLoss()\n",
    "\n",
    "for epoch in range(num_epochs):\n",
    "    accuracy_hist_train = 0\n",
    "\n",
    "    for batch_idx, data_batch in enumerate(train_data_loader):\n",
    "\n",
    "        samples, predicates, joins, targets, sample_masks, predicate_masks, join_masks = data_batch\n",
    "\n",
    "        samples, predicates, joins, targets = Variable(samples), Variable(predicates), Variable(joins), Variable(targets)            \n",
    "        sample_masks, predicate_masks, join_masks = Variable(sample_masks), Variable(predicate_masks), Variable(join_masks)\n",
    "\n",
    "        optimizer.zero_grad()\n",
    "        outputs = model(samples, predicates, joins, sample_masks, predicate_masks, join_masks)\n",
    "\n",
    "        loss = loss_fn(outputs, targets)\n",
    "        loss.backward()\n",
    "        optimizer.step()\n",
    "\n",
    "        is_correct = (torch.argmax(outputs, dim=1) == targets).float()\n",
    "        accuracy_hist_train += is_correct.sum()\n",
    "    accuracy_hist_train /= len(train_data_loader)\n",
    "\n",
    "    print(f'Epoch {epoch} Accuracy ' f'{accuracy_hist_train: .2f}')"
   ]
  },
  {
   "cell_type": "markdown",
   "metadata": {},
   "source": [
    "# Training Accuracy"
   ]
  },
  {
   "cell_type": "code",
   "execution_count": 7,
   "metadata": {},
   "outputs": [
    {
     "name": "stdout",
     "output_type": "stream",
     "text": [
      "Accuracy: 0.1111\n"
     ]
    }
   ],
   "source": [
    "with torch.no_grad():\n",
    "    correct = 0\n",
    "    total = 0\n",
    "\n",
    "    for batch in train_data_loader:\n",
    "        samples, predicates, joins, targets, sample_masks, predicate_masks, join_masks = batch\n",
    "\n",
    "        samples, predicates, joins, targets = Variable(samples), Variable(predicates), Variable(joins), Variable(targets)\n",
    "        sample_masks, predicate_masks, join_masks = Variable(sample_masks), Variable(predicate_masks), Variable(join_masks)\n",
    "\n",
    "        outputs = model(samples, predicates, joins, sample_masks, predicate_masks, join_masks)\n",
    "\n",
    "        _, predicted = torch.max(outputs.data, 1)\n",
    "\n",
    "        total += targets.size(0)\n",
    "        correct += (predicted == targets).sum().item()\n",
    "    \n",
    "    accuracy = correct / total\n",
    "    print(f'Accuracy: {accuracy:.4f}')\n"
   ]
  },
  {
   "cell_type": "markdown",
   "metadata": {},
   "source": [
    "# Validation Accuracy"
   ]
  },
  {
   "cell_type": "code",
   "execution_count": 9,
   "metadata": {},
   "outputs": [
    {
     "name": "stdout",
     "output_type": "stream",
     "text": [
      "Accuracy: 0.0000\n"
     ]
    }
   ],
   "source": [
    "test_data_loader = DataLoader(test_data, batch_size=batch_size, shuffle=True)\n",
    "\n",
    "model.eval()\n",
    "\n",
    "\n",
    "with torch.no_grad():\n",
    "    correct = 0\n",
    "    total = 0\n",
    "\n",
    "    for batch in test_data_loader:\n",
    "        samples, predicates, joins, targets, sample_masks, predicate_masks, join_masks = batch\n",
    "\n",
    "        samples, predicates, joins, targets = Variable(samples), Variable(predicates), Variable(joins), Variable(targets)\n",
    "        sample_masks, predicate_masks, join_masks = Variable(sample_masks), Variable(predicate_masks), Variable(join_masks)\n",
    "\n",
    "        outputs = model(samples, predicates, joins, sample_masks, predicate_masks, join_masks)\n",
    "\n",
    "        _, predicted = torch.max(outputs.data, 1)\n",
    "\n",
    "        total += targets.size(0)\n",
    "        correct += (predicted == targets).sum().item()\n",
    "    \n",
    "    accuracy = correct / total\n",
    "    print(f'Accuracy: {accuracy:.4f}')"
   ]
  }
 ],
 "metadata": {
  "kernelspec": {
   "display_name": "venv",
   "language": "python",
   "name": "python3"
  },
  "language_info": {
   "codemirror_mode": {
    "name": "ipython",
    "version": 3
   },
   "file_extension": ".py",
   "mimetype": "text/x-python",
   "name": "python",
   "nbconvert_exporter": "python",
   "pygments_lexer": "ipython3",
   "version": "3.11.6"
  }
 },
 "nbformat": 4,
 "nbformat_minor": 2
}

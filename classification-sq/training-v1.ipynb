{
 "cells": [
  {
   "cell_type": "code",
   "execution_count": 22,
   "metadata": {},
   "outputs": [],
   "source": [
    "import pandas as pd\n",
    "import numpy as np\n",
    "import time\n",
    "import torch\n",
    "import csv\n",
    "from util_v3 import *\n",
    "from data_v3 import load_data, get_train_datasets\n",
    "from model_v3 import *\n",
    "from torch.utils.data import dataset\n",
    "from torch.utils.data import DataLoader\n",
    "from torch.autograd import Variable\n",
    "\n",
    "# from mscn.data import load_data\n",
    "\n",
    "import torch\n",
    "import torch.nn as nn\n",
    "import torch.nn.functional as F\n",
    "# from mscn.data import get_train_datasets, load_data, make_dataset"
   ]
  },
  {
   "cell_type": "markdown",
   "metadata": {},
   "source": [
    "## load and encode train data by calling the function"
   ]
  },
  {
   "cell_type": "code",
   "execution_count": 23,
   "metadata": {},
   "outputs": [
    {
     "name": "stdout",
     "output_type": "stream",
     "text": [
      "Loaded queries\n",
      "Number of training samples: 9336\n",
      "Number of validation samples: 1038\n",
      "Created TensorDataset for training data\n",
      "Created TensorDataset for validation data\n"
     ]
    }
   ],
   "source": [
    "dataset_name = 'tpcds'\n",
    "\n",
    "dicts, column_min_max_vals, labels_train, labels_test, max_num_joins, max_num_predicates, train_data, test_data = get_train_datasets(dataset_name)"
   ]
  },
  {
   "cell_type": "code",
   "execution_count": 29,
   "metadata": {},
   "outputs": [],
   "source": [
    "num_epochs = 3\n",
    "batch_size = 1\n",
    "hid_units = 256\n",
    "cuda = False\n",
    "\n",
    "num_materialized_samples = 0\n",
    "\n",
    "num_classes = 19"
   ]
  },
  {
   "cell_type": "code",
   "execution_count": 30,
   "metadata": {},
   "outputs": [
    {
     "data": {
      "text/plain": [
       "SetConv(\n",
       "  (sample_mlp1): Linear(in_features=26, out_features=256, bias=True)\n",
       "  (sample_mlp2): Linear(in_features=256, out_features=256, bias=True)\n",
       "  (predicate_mlp1): Linear(in_features=30, out_features=256, bias=True)\n",
       "  (predicate_mlp2): Linear(in_features=256, out_features=256, bias=True)\n",
       "  (join_mlp1): Linear(in_features=56, out_features=256, bias=True)\n",
       "  (join_mlp2): Linear(in_features=256, out_features=256, bias=True)\n",
       "  (out_mlp1): Linear(in_features=768, out_features=256, bias=True)\n",
       "  (out_mlp2): Linear(in_features=256, out_features=19, bias=True)\n",
       ")"
      ]
     },
     "execution_count": 30,
     "metadata": {},
     "output_type": "execute_result"
    }
   ],
   "source": [
    "table2vec, column2vec, op2vec, join2vec = dicts\n",
    "\n",
    "num_materialized_samples = 0\n",
    "\n",
    "# Train model\n",
    "sample_feats = len(table2vec) + num_materialized_samples\n",
    "predicate_feats = len(column2vec) + len(op2vec) + 1\n",
    "join_feats = len(join2vec)\n",
    "\n",
    "model = SetConv(sample_feats, predicate_feats, join_feats, hid_units, num_classes)\n",
    "\n",
    "optimizer = torch.optim.Adam(model.parameters(), lr=0.001)\n",
    "\n",
    "train_data_loader = DataLoader(train_data, batch_size=batch_size, shuffle=True)\n",
    "test_data_loader = DataLoader(test_data, batch_size=batch_size)\n",
    "\n",
    "model.train()"
   ]
  },
  {
   "cell_type": "code",
   "execution_count": 34,
   "metadata": {},
   "outputs": [
    {
     "name": "stdout",
     "output_type": "stream",
     "text": [
      "targets type: <class 'torch.Tensor'>\n",
      "targets value: tensor([3])\n",
      "outputs type: <class 'torch.Tensor'>\n",
      "outputs value: tensor([[6.5022e-18, 7.3935e-30, 4.4227e-29, 1.2790e-18, 4.3129e-23, 8.4078e-45,\n",
      "         0.0000e+00, 2.4989e-33, 1.1612e-27, 7.1330e-13, 6.5341e-25, 4.4829e-40,\n",
      "         3.5374e-31, 1.0000e+00, 6.7538e-24, 4.4483e-29, 2.7273e-32, 2.4045e-27,\n",
      "         1.6351e-36]], grad_fn=<SoftmaxBackward0>)\n",
      "Epoch 0 Accuracy  0.00\n",
      "targets type: <class 'torch.Tensor'>\n",
      "targets value: tensor([3])\n",
      "outputs type: <class 'torch.Tensor'>\n",
      "outputs value: tensor([[1.8239e-15, 1.5370e-26, 2.1045e-26, 8.7586e-17, 3.1137e-21, 5.9398e-41,\n",
      "         1.3859e-42, 1.8299e-30, 4.7371e-25, 1.3993e-11, 1.3941e-22, 9.7475e-37,\n",
      "         2.2382e-28, 1.0000e+00, 1.4373e-21, 3.1126e-26, 2.4036e-29, 3.4383e-25,\n",
      "         1.7459e-33]], grad_fn=<SoftmaxBackward0>)\n",
      "Epoch 1 Accuracy  0.00\n",
      "targets type: <class 'torch.Tensor'>\n",
      "targets value: tensor([7])\n",
      "outputs type: <class 'torch.Tensor'>\n",
      "outputs value: tensor([[7.9531e-26, 1.8034e-25, 9.5927e-21, 1.8526e-23, 4.9605e-29, 1.1804e-37,\n",
      "         1.4767e-37, 1.6367e-25, 1.0000e+00, 5.8708e-26, 5.8914e-28, 2.3725e-21,\n",
      "         7.3228e-23, 2.9669e-31, 7.1915e-27, 3.3911e-18, 1.9828e-22, 9.7729e-31,\n",
      "         1.6273e-24]], grad_fn=<SoftmaxBackward0>)\n",
      "Epoch 2 Accuracy  0.00\n"
     ]
    }
   ],
   "source": [
    "loss_fn = nn.CrossEntropyLoss()\n",
    "\n",
    "for epoch in range(num_epochs):\n",
    "    accuracy_hist_train = 0\n",
    "\n",
    "    for batch_idx, data_batch in enumerate(train_data_loader):\n",
    "        if batch_idx == 1:\n",
    "\n",
    "            samples, predicates, joins, targets, sample_masks, predicate_masks, join_masks = data_batch\n",
    "\n",
    "            samples, predicates, joins, targets = Variable(samples), Variable(predicates), Variable(joins), Variable(targets)            \n",
    "            sample_masks, predicate_masks, join_masks = Variable(sample_masks), Variable(predicate_masks), Variable(join_masks)\n",
    "\n",
    "            optimizer.zero_grad()\n",
    "            outputs = model(samples, predicates, joins, sample_masks, predicate_masks, join_masks)\n",
    "\n",
    "            loss = loss_fn(outputs, targets)\n",
    "            loss.backward()\n",
    "            optimizer.step()\n",
    "\n",
    "            is_correct = (torch.argmax(outputs, dim=1) == targets).float()\n",
    "            accuracy_hist_train += is_correct.sum()\n",
    "    accuracy_hist_train /= len(train_data_loader)\n",
    "\n",
    "    print(f'Epoch {epoch} Accuracy ' f'{accuracy_hist_train: .2f}')"
   ]
  },
  {
   "cell_type": "markdown",
   "metadata": {},
   "source": [
    "# Get the final training and validation set predictions"
   ]
  },
  {
   "cell_type": "code",
   "execution_count": 27,
   "metadata": {},
   "outputs": [],
   "source": [
    "def predict(model, data_loader):\n",
    "    preds = []\n",
    "\n",
    "    model.eval()\n",
    "    for data_batch in enumerate(data_loader):\n",
    "\n",
    "        samples, predicates, joins, targets, sample_masks, predicate_masks, join_masks = data_batch\n",
    "\n",
    "        samples, predicates, joins, targets = Variable(samples), Variable(predicates), Variable(joins), Variable(targets)            \n",
    "        sample_masks, predicate_masks, join_masks = Variable(sample_masks), Variable(predicate_masks), Variable(join_masks)\n",
    "\n",
    "        outputs = model(samples, predicates, joins, sample_masks, predicate_masks, join_masks)\n",
    "\n",
    "        for i in range(outputs.data.shape[0]):\n",
    "            preds.append(outputs.data[i])\n",
    "\n",
    "    return preds"
   ]
  },
  {
   "cell_type": "code",
   "execution_count": 21,
   "metadata": {},
   "outputs": [
    {
     "ename": "ValueError",
     "evalue": "not enough values to unpack (expected 7, got 2)",
     "output_type": "error",
     "traceback": [
      "\u001b[0;31m---------------------------------------------------------------------------\u001b[0m",
      "\u001b[0;31mValueError\u001b[0m                                Traceback (most recent call last)",
      "\u001b[1;32m/Users/shaikhq/coding/learnedcardinalities/classification/training-v1.ipynb Cell 9\u001b[0m line \u001b[0;36m1\n\u001b[0;32m----> <a href='vscode-notebook-cell:/Users/shaikhq/coding/learnedcardinalities/classification/training-v1.ipynb#X13sZmlsZQ%3D%3D?line=0'>1</a>\u001b[0m preds_train \u001b[39m=\u001b[39m predict(model, train_data_loader)\n\u001b[1;32m      <a href='vscode-notebook-cell:/Users/shaikhq/coding/learnedcardinalities/classification/training-v1.ipynb#X13sZmlsZQ%3D%3D?line=1'>2</a>\u001b[0m \u001b[39m# is_correct = (torch.argmax(preds_train, dim=1) == labels_train).float()\u001b[39;00m\n\u001b[1;32m      <a href='vscode-notebook-cell:/Users/shaikhq/coding/learnedcardinalities/classification/training-v1.ipynb#X13sZmlsZQ%3D%3D?line=2'>3</a>\u001b[0m \u001b[39m# print(f'Train accuracy: {is_correct.mean():.4f}')\u001b[39;00m\n",
      "\u001b[1;32m/Users/shaikhq/coding/learnedcardinalities/classification/training-v1.ipynb Cell 9\u001b[0m line \u001b[0;36m7\n\u001b[1;32m      <a href='vscode-notebook-cell:/Users/shaikhq/coding/learnedcardinalities/classification/training-v1.ipynb#X13sZmlsZQ%3D%3D?line=3'>4</a>\u001b[0m model\u001b[39m.\u001b[39meval()\n\u001b[1;32m      <a href='vscode-notebook-cell:/Users/shaikhq/coding/learnedcardinalities/classification/training-v1.ipynb#X13sZmlsZQ%3D%3D?line=4'>5</a>\u001b[0m \u001b[39mfor\u001b[39;00m data_batch \u001b[39min\u001b[39;00m \u001b[39menumerate\u001b[39m(data_loader):\n\u001b[0;32m----> <a href='vscode-notebook-cell:/Users/shaikhq/coding/learnedcardinalities/classification/training-v1.ipynb#X13sZmlsZQ%3D%3D?line=6'>7</a>\u001b[0m     samples, predicates, joins, targets, sample_masks, predicate_masks, join_masks \u001b[39m=\u001b[39m data_batch\n\u001b[1;32m      <a href='vscode-notebook-cell:/Users/shaikhq/coding/learnedcardinalities/classification/training-v1.ipynb#X13sZmlsZQ%3D%3D?line=8'>9</a>\u001b[0m     samples, predicates, joins, targets \u001b[39m=\u001b[39m Variable(samples), Variable(predicates), Variable(joins), Variable(targets)            \n\u001b[1;32m     <a href='vscode-notebook-cell:/Users/shaikhq/coding/learnedcardinalities/classification/training-v1.ipynb#X13sZmlsZQ%3D%3D?line=9'>10</a>\u001b[0m     sample_masks, predicate_masks, join_masks \u001b[39m=\u001b[39m Variable(sample_masks), Variable(predicate_masks), Variable(join_masks)\n",
      "\u001b[0;31mValueError\u001b[0m: not enough values to unpack (expected 7, got 2)"
     ]
    }
   ],
   "source": [
    "preds_train = predict(model, train_data_loader)\n",
    "# is_correct = (torch.argmax(preds_train, dim=1) == labels_train).float()\n",
    "# print(f'Train accuracy: {is_correct.mean():.4f}')\n"
   ]
  }
 ],
 "metadata": {
  "kernelspec": {
   "display_name": "venv",
   "language": "python",
   "name": "python3"
  },
  "language_info": {
   "codemirror_mode": {
    "name": "ipython",
    "version": 3
   },
   "file_extension": ".py",
   "mimetype": "text/x-python",
   "name": "python",
   "nbconvert_exporter": "python",
   "pygments_lexer": "ipython3",
   "version": "3.11.6"
  }
 },
 "nbformat": 4,
 "nbformat_minor": 2
}

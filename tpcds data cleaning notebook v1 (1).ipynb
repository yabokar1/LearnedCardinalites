{
 "cells": [
  {
   "cell_type": "markdown",
   "id": "13a5e88c",
   "metadata": {},
   "source": [
    "# Importing libraries"
   ]
  },
  {
   "cell_type": "code",
   "execution_count": 1,
   "id": "6e5d819e",
   "metadata": {},
   "outputs": [],
   "source": [
    "import pandas as pd\n",
    "from sklearn.compose import ColumnTransformer\n",
    "from sklearn.preprocessing import StandardScaler\n",
    "from sklearn.model_selection import train_test_split\n",
    "import numpy as np"
   ]
  },
  {
   "cell_type": "code",
   "execution_count": 2,
   "id": "e80648ff",
   "metadata": {},
   "outputs": [],
   "source": [
    "pd.set_option('display.max_columns', None)"
   ]
  },
  {
   "cell_type": "markdown",
   "id": "2dfccd15",
   "metadata": {},
   "source": [
    "# Loading data"
   ]
  },
  {
   "cell_type": "code",
   "execution_count": 3,
   "id": "72645c96",
   "metadata": {},
   "outputs": [],
   "source": [
    "df = pd.read_csv('Master_file.csv')"
   ]
  },
  {
   "cell_type": "markdown",
   "id": "6b5953e2",
   "metadata": {},
   "source": [
    "# First look at the data"
   ]
  },
  {
   "cell_type": "code",
   "execution_count": 4,
   "id": "050924b6",
   "metadata": {},
   "outputs": [
    {
     "data": {
      "text/html": [
       "<div>\n",
       "<style scoped>\n",
       "    .dataframe tbody tr th:only-of-type {\n",
       "        vertical-align: middle;\n",
       "    }\n",
       "\n",
       "    .dataframe tbody tr th {\n",
       "        vertical-align: top;\n",
       "    }\n",
       "\n",
       "    .dataframe thead th {\n",
       "        text-align: right;\n",
       "    }\n",
       "</style>\n",
       "<table border=\"1\" class=\"dataframe\">\n",
       "  <thead>\n",
       "    <tr style=\"text-align: right;\">\n",
       "      <th></th>\n",
       "      <th>Unnamed: 0</th>\n",
       "      <th>FILENAME</th>\n",
       "      <th>TQ</th>\n",
       "      <th>TQ COUNT</th>\n",
       "      <th>TBSCAN</th>\n",
       "      <th>TBSCAN COUNT</th>\n",
       "      <th>SORT</th>\n",
       "      <th>SORT COUNT</th>\n",
       "      <th>FILTER</th>\n",
       "      <th>FILTER COUNT</th>\n",
       "      <th>HS JOIN</th>\n",
       "      <th>HS JOIN COUNT</th>\n",
       "      <th>TEMP</th>\n",
       "      <th>TEMP COUNT</th>\n",
       "      <th>GRPBY</th>\n",
       "      <th>GRPBY COUNT</th>\n",
       "      <th>UNIQUE</th>\n",
       "      <th>UNIQUE COUNT</th>\n",
       "      <th>UNION</th>\n",
       "      <th>UNION COUNT</th>\n",
       "      <th>NHJOIN</th>\n",
       "      <th>NHJOIN COUNT</th>\n",
       "      <th>Queries</th>\n",
       "      <th>ESTIMATED_SORT_SHRHEAP_TOP</th>\n",
       "      <th>SORT_SHRHEAP_TOP</th>\n",
       "      <th>NLJOIN</th>\n",
       "      <th>NLJOIN COUNT</th>\n",
       "    </tr>\n",
       "  </thead>\n",
       "  <tbody>\n",
       "    <tr>\n",
       "      <th>0</th>\n",
       "      <td>0</td>\n",
       "      <td>/Users/yonisabokar/IdeaProjects/Database_Parse...</td>\n",
       "      <td>100.0</td>\n",
       "      <td>1</td>\n",
       "      <td>3.110440e+07</td>\n",
       "      <td>9</td>\n",
       "      <td>100.0</td>\n",
       "      <td>1</td>\n",
       "      <td>5184.0</td>\n",
       "      <td>1.0</td>\n",
       "      <td>324349.1</td>\n",
       "      <td>5</td>\n",
       "      <td>154403.0</td>\n",
       "      <td>2.0</td>\n",
       "      <td>139053.0</td>\n",
       "      <td>2</td>\n",
       "      <td>202.0</td>\n",
       "      <td>1.0</td>\n",
       "      <td>NaN</td>\n",
       "      <td>NaN</td>\n",
       "      <td>NaN</td>\n",
       "      <td>NaN</td>\n",
       "      <td>with customer_total_return as (select sr_custo...</td>\n",
       "      <td>79816.0</td>\n",
       "      <td>133909.0</td>\n",
       "      <td>NaN</td>\n",
       "      <td>NaN</td>\n",
       "    </tr>\n",
       "    <tr>\n",
       "      <th>1</th>\n",
       "      <td>1</td>\n",
       "      <td>/Users/yonisabokar/IdeaProjects/Database_Parse...</td>\n",
       "      <td>100.0</td>\n",
       "      <td>1</td>\n",
       "      <td>3.110440e+07</td>\n",
       "      <td>9</td>\n",
       "      <td>100.0</td>\n",
       "      <td>1</td>\n",
       "      <td>5184.0</td>\n",
       "      <td>1.0</td>\n",
       "      <td>324349.1</td>\n",
       "      <td>5</td>\n",
       "      <td>154403.0</td>\n",
       "      <td>2.0</td>\n",
       "      <td>139053.0</td>\n",
       "      <td>2</td>\n",
       "      <td>202.0</td>\n",
       "      <td>1.0</td>\n",
       "      <td>NaN</td>\n",
       "      <td>NaN</td>\n",
       "      <td>NaN</td>\n",
       "      <td>NaN</td>\n",
       "      <td>with customer_total_return as (select sr_custo...</td>\n",
       "      <td>79816.0</td>\n",
       "      <td>110652.0</td>\n",
       "      <td>NaN</td>\n",
       "      <td>NaN</td>\n",
       "    </tr>\n",
       "    <tr>\n",
       "      <th>2</th>\n",
       "      <td>2</td>\n",
       "      <td>/Users/yonisabokar/IdeaProjects/Database_Parse...</td>\n",
       "      <td>100.0</td>\n",
       "      <td>1</td>\n",
       "      <td>3.110440e+07</td>\n",
       "      <td>9</td>\n",
       "      <td>100.0</td>\n",
       "      <td>1</td>\n",
       "      <td>5184.0</td>\n",
       "      <td>1.0</td>\n",
       "      <td>324349.1</td>\n",
       "      <td>5</td>\n",
       "      <td>154403.0</td>\n",
       "      <td>2.0</td>\n",
       "      <td>139053.0</td>\n",
       "      <td>2</td>\n",
       "      <td>202.0</td>\n",
       "      <td>1.0</td>\n",
       "      <td>NaN</td>\n",
       "      <td>NaN</td>\n",
       "      <td>NaN</td>\n",
       "      <td>NaN</td>\n",
       "      <td>with customer_total_return as (select sr_custo...</td>\n",
       "      <td>79816.0</td>\n",
       "      <td>129057.0</td>\n",
       "      <td>NaN</td>\n",
       "      <td>NaN</td>\n",
       "    </tr>\n",
       "    <tr>\n",
       "      <th>3</th>\n",
       "      <td>3</td>\n",
       "      <td>/Users/yonisabokar/IdeaProjects/Database_Parse...</td>\n",
       "      <td>100.0</td>\n",
       "      <td>1</td>\n",
       "      <td>3.110994e+07</td>\n",
       "      <td>9</td>\n",
       "      <td>100.0</td>\n",
       "      <td>1</td>\n",
       "      <td>6105.6</td>\n",
       "      <td>1.0</td>\n",
       "      <td>332641.9</td>\n",
       "      <td>5</td>\n",
       "      <td>157167.8</td>\n",
       "      <td>2.0</td>\n",
       "      <td>139053.0</td>\n",
       "      <td>2</td>\n",
       "      <td>202.0</td>\n",
       "      <td>1.0</td>\n",
       "      <td>NaN</td>\n",
       "      <td>NaN</td>\n",
       "      <td>NaN</td>\n",
       "      <td>NaN</td>\n",
       "      <td>with customer_total_return as (select sr_custo...</td>\n",
       "      <td>79865.0</td>\n",
       "      <td>111082.0</td>\n",
       "      <td>NaN</td>\n",
       "      <td>NaN</td>\n",
       "    </tr>\n",
       "    <tr>\n",
       "      <th>4</th>\n",
       "      <td>4</td>\n",
       "      <td>/Users/yonisabokar/IdeaProjects/Database_Parse...</td>\n",
       "      <td>100.0</td>\n",
       "      <td>1</td>\n",
       "      <td>3.110510e+07</td>\n",
       "      <td>9</td>\n",
       "      <td>100.0</td>\n",
       "      <td>1</td>\n",
       "      <td>5299.2</td>\n",
       "      <td>1.0</td>\n",
       "      <td>325385.7</td>\n",
       "      <td>5</td>\n",
       "      <td>154748.6</td>\n",
       "      <td>2.0</td>\n",
       "      <td>139053.0</td>\n",
       "      <td>2</td>\n",
       "      <td>202.0</td>\n",
       "      <td>1.0</td>\n",
       "      <td>NaN</td>\n",
       "      <td>NaN</td>\n",
       "      <td>NaN</td>\n",
       "      <td>NaN</td>\n",
       "      <td>with customer_total_return as (select sr_custo...</td>\n",
       "      <td>79823.0</td>\n",
       "      <td>110894.0</td>\n",
       "      <td>NaN</td>\n",
       "      <td>NaN</td>\n",
       "    </tr>\n",
       "  </tbody>\n",
       "</table>\n",
       "</div>"
      ],
      "text/plain": [
       "   Unnamed: 0                                           FILENAME     TQ  \\\n",
       "0           0  /Users/yonisabokar/IdeaProjects/Database_Parse...  100.0   \n",
       "1           1  /Users/yonisabokar/IdeaProjects/Database_Parse...  100.0   \n",
       "2           2  /Users/yonisabokar/IdeaProjects/Database_Parse...  100.0   \n",
       "3           3  /Users/yonisabokar/IdeaProjects/Database_Parse...  100.0   \n",
       "4           4  /Users/yonisabokar/IdeaProjects/Database_Parse...  100.0   \n",
       "\n",
       "   TQ COUNT        TBSCAN  TBSCAN COUNT   SORT  SORT COUNT  FILTER  \\\n",
       "0         1  3.110440e+07             9  100.0           1  5184.0   \n",
       "1         1  3.110440e+07             9  100.0           1  5184.0   \n",
       "2         1  3.110440e+07             9  100.0           1  5184.0   \n",
       "3         1  3.110994e+07             9  100.0           1  6105.6   \n",
       "4         1  3.110510e+07             9  100.0           1  5299.2   \n",
       "\n",
       "   FILTER COUNT   HS JOIN  HS JOIN COUNT      TEMP  TEMP COUNT     GRPBY  \\\n",
       "0           1.0  324349.1              5  154403.0         2.0  139053.0   \n",
       "1           1.0  324349.1              5  154403.0         2.0  139053.0   \n",
       "2           1.0  324349.1              5  154403.0         2.0  139053.0   \n",
       "3           1.0  332641.9              5  157167.8         2.0  139053.0   \n",
       "4           1.0  325385.7              5  154748.6         2.0  139053.0   \n",
       "\n",
       "   GRPBY COUNT  UNIQUE  UNIQUE COUNT  UNION  UNION COUNT  NHJOIN  \\\n",
       "0            2   202.0           1.0    NaN          NaN     NaN   \n",
       "1            2   202.0           1.0    NaN          NaN     NaN   \n",
       "2            2   202.0           1.0    NaN          NaN     NaN   \n",
       "3            2   202.0           1.0    NaN          NaN     NaN   \n",
       "4            2   202.0           1.0    NaN          NaN     NaN   \n",
       "\n",
       "   NHJOIN COUNT                                            Queries  \\\n",
       "0           NaN  with customer_total_return as (select sr_custo...   \n",
       "1           NaN  with customer_total_return as (select sr_custo...   \n",
       "2           NaN  with customer_total_return as (select sr_custo...   \n",
       "3           NaN  with customer_total_return as (select sr_custo...   \n",
       "4           NaN  with customer_total_return as (select sr_custo...   \n",
       "\n",
       "   ESTIMATED_SORT_SHRHEAP_TOP  SORT_SHRHEAP_TOP  NLJOIN  NLJOIN COUNT  \n",
       "0                     79816.0          133909.0     NaN           NaN  \n",
       "1                     79816.0          110652.0     NaN           NaN  \n",
       "2                     79816.0          129057.0     NaN           NaN  \n",
       "3                     79865.0          111082.0     NaN           NaN  \n",
       "4                     79823.0          110894.0     NaN           NaN  "
      ]
     },
     "execution_count": 4,
     "metadata": {},
     "output_type": "execute_result"
    }
   ],
   "source": [
    "df.head()"
   ]
  },
  {
   "cell_type": "code",
   "execution_count": 9,
   "id": "8526fee2",
   "metadata": {},
   "outputs": [
    {
     "name": "stdout",
     "output_type": "stream",
     "text": [
      "/Users/yonisabokar/IdeaProjects/Database_Parser/rand_queries_one_hundred_thousand/output10/query_143\n"
     ]
    }
   ],
   "source": [
    "print(df['FILENAME'][100])"
   ]
  },
  {
   "cell_type": "code",
   "execution_count": 37,
   "id": "a5d336a2",
   "metadata": {},
   "outputs": [
    {
     "name": "stdout",
     "output_type": "stream",
     "text": [
      "<class 'pandas.core.frame.DataFrame'>\n",
      "RangeIndex: 99349 entries, 0 to 99348\n",
      "Data columns (total 27 columns):\n",
      " #   Column                      Non-Null Count  Dtype  \n",
      "---  ------                      --------------  -----  \n",
      " 0   Unnamed: 0                  99349 non-null  int64  \n",
      " 1   FILENAME                    99349 non-null  object \n",
      " 2   TQ                          99349 non-null  float64\n",
      " 3   TQ COUNT                    99349 non-null  int64  \n",
      " 4   TBSCAN                      99349 non-null  float64\n",
      " 5   TBSCAN COUNT                99349 non-null  int64  \n",
      " 6   SORT                        99349 non-null  float64\n",
      " 7   SORT COUNT                  99349 non-null  int64  \n",
      " 8   FILTER                      96019 non-null  float64\n",
      " 9   FILTER COUNT                96019 non-null  float64\n",
      " 10  HS JOIN                     99349 non-null  float64\n",
      " 11  HS JOIN COUNT               99349 non-null  int64  \n",
      " 12  TEMP                        98669 non-null  float64\n",
      " 13  TEMP COUNT                  98669 non-null  float64\n",
      " 14  GRPBY                       99349 non-null  float64\n",
      " 15  GRPBY COUNT                 99349 non-null  int64  \n",
      " 16  UNIQUE                      96019 non-null  float64\n",
      " 17  UNIQUE COUNT                96019 non-null  float64\n",
      " 18  UNION                       98619 non-null  float64\n",
      " 19  UNION COUNT                 98619 non-null  float64\n",
      " 20  NHJOIN                      0 non-null      float64\n",
      " 21  NHJOIN COUNT                0 non-null      float64\n",
      " 22  Queries                     99349 non-null  object \n",
      " 23  ESTIMATED_SORT_SHRHEAP_TOP  89654 non-null  float64\n",
      " 24  SORT_SHRHEAP_TOP            89654 non-null  float64\n",
      " 25  NLJOIN                      97160 non-null  float64\n",
      " 26  NLJOIN COUNT                97160 non-null  float64\n",
      "dtypes: float64(19), int64(6), object(2)\n",
      "memory usage: 20.5+ MB\n"
     ]
    }
   ],
   "source": [
    "df.info()"
   ]
  },
  {
   "cell_type": "markdown",
   "id": "8001abaa",
   "metadata": {},
   "source": [
    "## Dropping non-feature columns"
   ]
  },
  {
   "cell_type": "code",
   "execution_count": 38,
   "id": "d6179b71",
   "metadata": {},
   "outputs": [],
   "source": [
    "cols_non_features = ['Unnamed: 0', 'FILENAME', 'Queries']\n",
    "df.drop(columns=cols_non_features, inplace=True)"
   ]
  },
  {
   "cell_type": "code",
   "execution_count": 39,
   "id": "331e27b3",
   "metadata": {},
   "outputs": [
    {
     "name": "stdout",
     "output_type": "stream",
     "text": [
      "<class 'pandas.core.frame.DataFrame'>\n",
      "RangeIndex: 99349 entries, 0 to 99348\n",
      "Data columns (total 24 columns):\n",
      " #   Column                      Non-Null Count  Dtype  \n",
      "---  ------                      --------------  -----  \n",
      " 0   TQ                          99349 non-null  float64\n",
      " 1   TQ COUNT                    99349 non-null  int64  \n",
      " 2   TBSCAN                      99349 non-null  float64\n",
      " 3   TBSCAN COUNT                99349 non-null  int64  \n",
      " 4   SORT                        99349 non-null  float64\n",
      " 5   SORT COUNT                  99349 non-null  int64  \n",
      " 6   FILTER                      96019 non-null  float64\n",
      " 7   FILTER COUNT                96019 non-null  float64\n",
      " 8   HS JOIN                     99349 non-null  float64\n",
      " 9   HS JOIN COUNT               99349 non-null  int64  \n",
      " 10  TEMP                        98669 non-null  float64\n",
      " 11  TEMP COUNT                  98669 non-null  float64\n",
      " 12  GRPBY                       99349 non-null  float64\n",
      " 13  GRPBY COUNT                 99349 non-null  int64  \n",
      " 14  UNIQUE                      96019 non-null  float64\n",
      " 15  UNIQUE COUNT                96019 non-null  float64\n",
      " 16  UNION                       98619 non-null  float64\n",
      " 17  UNION COUNT                 98619 non-null  float64\n",
      " 18  NHJOIN                      0 non-null      float64\n",
      " 19  NHJOIN COUNT                0 non-null      float64\n",
      " 20  ESTIMATED_SORT_SHRHEAP_TOP  89654 non-null  float64\n",
      " 21  SORT_SHRHEAP_TOP            89654 non-null  float64\n",
      " 22  NLJOIN                      97160 non-null  float64\n",
      " 23  NLJOIN COUNT                97160 non-null  float64\n",
      "dtypes: float64(19), int64(5)\n",
      "memory usage: 18.2 MB\n"
     ]
    }
   ],
   "source": [
    "df.info()"
   ]
  },
  {
   "cell_type": "markdown",
   "id": "bafb4fd8",
   "metadata": {},
   "source": [
    "# Checking Missing Values"
   ]
  },
  {
   "cell_type": "code",
   "execution_count": 40,
   "id": "22c92cfd",
   "metadata": {},
   "outputs": [
    {
     "data": {
      "text/plain": [
       "TQ                                0\n",
       "TQ COUNT                          0\n",
       "TBSCAN                            0\n",
       "TBSCAN COUNT                      0\n",
       "SORT                              0\n",
       "SORT COUNT                        0\n",
       "FILTER                         3330\n",
       "FILTER COUNT                   3330\n",
       "HS JOIN                           0\n",
       "HS JOIN COUNT                     0\n",
       "TEMP                            680\n",
       "TEMP COUNT                      680\n",
       "GRPBY                             0\n",
       "GRPBY COUNT                       0\n",
       "UNIQUE                         3330\n",
       "UNIQUE COUNT                   3330\n",
       "UNION                           730\n",
       "UNION COUNT                     730\n",
       "NHJOIN                        99349\n",
       "NHJOIN COUNT                  99349\n",
       "ESTIMATED_SORT_SHRHEAP_TOP     9695\n",
       "SORT_SHRHEAP_TOP               9695\n",
       "NLJOIN                         2189\n",
       "NLJOIN COUNT                   2189\n",
       "dtype: int64"
      ]
     },
     "execution_count": 40,
     "metadata": {},
     "output_type": "execute_result"
    }
   ],
   "source": [
    "df.isnull().sum()"
   ]
  },
  {
   "cell_type": "markdown",
   "id": "fdbb2838",
   "metadata": {},
   "source": [
    "## Dropping columns with all missing values"
   ]
  },
  {
   "cell_type": "code",
   "execution_count": 41,
   "id": "baed0fc9",
   "metadata": {},
   "outputs": [],
   "source": [
    "df.dropna(axis=1, how='all', inplace=True)"
   ]
  },
  {
   "cell_type": "code",
   "execution_count": 42,
   "id": "9436231f",
   "metadata": {},
   "outputs": [
    {
     "name": "stdout",
     "output_type": "stream",
     "text": [
      "<class 'pandas.core.frame.DataFrame'>\n",
      "RangeIndex: 99349 entries, 0 to 99348\n",
      "Data columns (total 22 columns):\n",
      " #   Column                      Non-Null Count  Dtype  \n",
      "---  ------                      --------------  -----  \n",
      " 0   TQ                          99349 non-null  float64\n",
      " 1   TQ COUNT                    99349 non-null  int64  \n",
      " 2   TBSCAN                      99349 non-null  float64\n",
      " 3   TBSCAN COUNT                99349 non-null  int64  \n",
      " 4   SORT                        99349 non-null  float64\n",
      " 5   SORT COUNT                  99349 non-null  int64  \n",
      " 6   FILTER                      96019 non-null  float64\n",
      " 7   FILTER COUNT                96019 non-null  float64\n",
      " 8   HS JOIN                     99349 non-null  float64\n",
      " 9   HS JOIN COUNT               99349 non-null  int64  \n",
      " 10  TEMP                        98669 non-null  float64\n",
      " 11  TEMP COUNT                  98669 non-null  float64\n",
      " 12  GRPBY                       99349 non-null  float64\n",
      " 13  GRPBY COUNT                 99349 non-null  int64  \n",
      " 14  UNIQUE                      96019 non-null  float64\n",
      " 15  UNIQUE COUNT                96019 non-null  float64\n",
      " 16  UNION                       98619 non-null  float64\n",
      " 17  UNION COUNT                 98619 non-null  float64\n",
      " 18  ESTIMATED_SORT_SHRHEAP_TOP  89654 non-null  float64\n",
      " 19  SORT_SHRHEAP_TOP            89654 non-null  float64\n",
      " 20  NLJOIN                      97160 non-null  float64\n",
      " 21  NLJOIN COUNT                97160 non-null  float64\n",
      "dtypes: float64(17), int64(5)\n",
      "memory usage: 16.7 MB\n"
     ]
    }
   ],
   "source": [
    "df.info()"
   ]
  },
  {
   "cell_type": "markdown",
   "id": "035cc1f4",
   "metadata": {},
   "source": [
    "## Dropping rows with missing values"
   ]
  },
  {
   "cell_type": "code",
   "execution_count": 43,
   "id": "8a078cff",
   "metadata": {},
   "outputs": [],
   "source": [
    "df.dropna(axis=0, inplace=True)"
   ]
  },
  {
   "cell_type": "code",
   "execution_count": 44,
   "id": "bb9094e3",
   "metadata": {},
   "outputs": [
    {
     "name": "stdout",
     "output_type": "stream",
     "text": [
      "<class 'pandas.core.frame.DataFrame'>\n",
      "Int64Index: 85626 entries, 50 to 95368\n",
      "Data columns (total 22 columns):\n",
      " #   Column                      Non-Null Count  Dtype  \n",
      "---  ------                      --------------  -----  \n",
      " 0   TQ                          85626 non-null  float64\n",
      " 1   TQ COUNT                    85626 non-null  int64  \n",
      " 2   TBSCAN                      85626 non-null  float64\n",
      " 3   TBSCAN COUNT                85626 non-null  int64  \n",
      " 4   SORT                        85626 non-null  float64\n",
      " 5   SORT COUNT                  85626 non-null  int64  \n",
      " 6   FILTER                      85626 non-null  float64\n",
      " 7   FILTER COUNT                85626 non-null  float64\n",
      " 8   HS JOIN                     85626 non-null  float64\n",
      " 9   HS JOIN COUNT               85626 non-null  int64  \n",
      " 10  TEMP                        85626 non-null  float64\n",
      " 11  TEMP COUNT                  85626 non-null  float64\n",
      " 12  GRPBY                       85626 non-null  float64\n",
      " 13  GRPBY COUNT                 85626 non-null  int64  \n",
      " 14  UNIQUE                      85626 non-null  float64\n",
      " 15  UNIQUE COUNT                85626 non-null  float64\n",
      " 16  UNION                       85626 non-null  float64\n",
      " 17  UNION COUNT                 85626 non-null  float64\n",
      " 18  ESTIMATED_SORT_SHRHEAP_TOP  85626 non-null  float64\n",
      " 19  SORT_SHRHEAP_TOP            85626 non-null  float64\n",
      " 20  NLJOIN                      85626 non-null  float64\n",
      " 21  NLJOIN COUNT                85626 non-null  float64\n",
      "dtypes: float64(17), int64(5)\n",
      "memory usage: 15.0 MB\n"
     ]
    }
   ],
   "source": [
    "df.info()"
   ]
  },
  {
   "cell_type": "code",
   "execution_count": 45,
   "id": "27fa8f4e",
   "metadata": {},
   "outputs": [
    {
     "data": {
      "text/html": [
       "<div>\n",
       "<style scoped>\n",
       "    .dataframe tbody tr th:only-of-type {\n",
       "        vertical-align: middle;\n",
       "    }\n",
       "\n",
       "    .dataframe tbody tr th {\n",
       "        vertical-align: top;\n",
       "    }\n",
       "\n",
       "    .dataframe thead th {\n",
       "        text-align: right;\n",
       "    }\n",
       "</style>\n",
       "<table border=\"1\" class=\"dataframe\">\n",
       "  <thead>\n",
       "    <tr style=\"text-align: right;\">\n",
       "      <th></th>\n",
       "      <th>TQ</th>\n",
       "      <th>TQ COUNT</th>\n",
       "      <th>TBSCAN</th>\n",
       "      <th>TBSCAN COUNT</th>\n",
       "      <th>SORT</th>\n",
       "      <th>SORT COUNT</th>\n",
       "      <th>FILTER</th>\n",
       "      <th>FILTER COUNT</th>\n",
       "      <th>HS JOIN</th>\n",
       "      <th>HS JOIN COUNT</th>\n",
       "      <th>TEMP</th>\n",
       "      <th>TEMP COUNT</th>\n",
       "      <th>GRPBY</th>\n",
       "      <th>GRPBY COUNT</th>\n",
       "      <th>UNIQUE</th>\n",
       "      <th>UNIQUE COUNT</th>\n",
       "      <th>UNION</th>\n",
       "      <th>UNION COUNT</th>\n",
       "      <th>ESTIMATED_SORT_SHRHEAP_TOP</th>\n",
       "      <th>SORT_SHRHEAP_TOP</th>\n",
       "      <th>NLJOIN</th>\n",
       "      <th>NLJOIN COUNT</th>\n",
       "    </tr>\n",
       "  </thead>\n",
       "  <tbody>\n",
       "    <tr>\n",
       "      <th>50</th>\n",
       "      <td>100.0</td>\n",
       "      <td>1</td>\n",
       "      <td>5.079190e+08</td>\n",
       "      <td>10</td>\n",
       "      <td>100.0</td>\n",
       "      <td>1</td>\n",
       "      <td>1150.29</td>\n",
       "      <td>1.0</td>\n",
       "      <td>1078561.89</td>\n",
       "      <td>8</td>\n",
       "      <td>5.0</td>\n",
       "      <td>5.0</td>\n",
       "      <td>1150.29</td>\n",
       "      <td>1</td>\n",
       "      <td>1150.29</td>\n",
       "      <td>1.0</td>\n",
       "      <td>5627.74</td>\n",
       "      <td>1.0</td>\n",
       "      <td>31732.0</td>\n",
       "      <td>66491.0</td>\n",
       "      <td>15.0</td>\n",
       "      <td>15.0</td>\n",
       "    </tr>\n",
       "    <tr>\n",
       "      <th>51</th>\n",
       "      <td>100.0</td>\n",
       "      <td>1</td>\n",
       "      <td>5.079190e+08</td>\n",
       "      <td>10</td>\n",
       "      <td>100.0</td>\n",
       "      <td>1</td>\n",
       "      <td>1198.54</td>\n",
       "      <td>1.0</td>\n",
       "      <td>1093084.89</td>\n",
       "      <td>8</td>\n",
       "      <td>5.0</td>\n",
       "      <td>5.0</td>\n",
       "      <td>1198.54</td>\n",
       "      <td>1</td>\n",
       "      <td>1198.54</td>\n",
       "      <td>1.0</td>\n",
       "      <td>5627.74</td>\n",
       "      <td>1.0</td>\n",
       "      <td>32435.0</td>\n",
       "      <td>71757.0</td>\n",
       "      <td>15.0</td>\n",
       "      <td>15.0</td>\n",
       "    </tr>\n",
       "    <tr>\n",
       "      <th>52</th>\n",
       "      <td>100.0</td>\n",
       "      <td>1</td>\n",
       "      <td>5.079190e+08</td>\n",
       "      <td>10</td>\n",
       "      <td>100.0</td>\n",
       "      <td>1</td>\n",
       "      <td>1150.29</td>\n",
       "      <td>1.0</td>\n",
       "      <td>1078561.89</td>\n",
       "      <td>8</td>\n",
       "      <td>5.0</td>\n",
       "      <td>5.0</td>\n",
       "      <td>1150.29</td>\n",
       "      <td>1</td>\n",
       "      <td>1150.29</td>\n",
       "      <td>1.0</td>\n",
       "      <td>5627.74</td>\n",
       "      <td>1.0</td>\n",
       "      <td>31732.0</td>\n",
       "      <td>64661.0</td>\n",
       "      <td>15.0</td>\n",
       "      <td>15.0</td>\n",
       "    </tr>\n",
       "    <tr>\n",
       "      <th>53</th>\n",
       "      <td>100.0</td>\n",
       "      <td>1</td>\n",
       "      <td>5.079190e+08</td>\n",
       "      <td>10</td>\n",
       "      <td>100.0</td>\n",
       "      <td>1</td>\n",
       "      <td>1198.54</td>\n",
       "      <td>1.0</td>\n",
       "      <td>1093084.89</td>\n",
       "      <td>8</td>\n",
       "      <td>5.0</td>\n",
       "      <td>5.0</td>\n",
       "      <td>1198.54</td>\n",
       "      <td>1</td>\n",
       "      <td>1198.54</td>\n",
       "      <td>1.0</td>\n",
       "      <td>5627.74</td>\n",
       "      <td>1.0</td>\n",
       "      <td>32355.0</td>\n",
       "      <td>67439.0</td>\n",
       "      <td>15.0</td>\n",
       "      <td>15.0</td>\n",
       "    </tr>\n",
       "    <tr>\n",
       "      <th>54</th>\n",
       "      <td>100.0</td>\n",
       "      <td>1</td>\n",
       "      <td>5.079253e+08</td>\n",
       "      <td>10</td>\n",
       "      <td>100.0</td>\n",
       "      <td>1</td>\n",
       "      <td>4185.15</td>\n",
       "      <td>1.0</td>\n",
       "      <td>2929905.60</td>\n",
       "      <td>8</td>\n",
       "      <td>5.0</td>\n",
       "      <td>5.0</td>\n",
       "      <td>4185.15</td>\n",
       "      <td>1</td>\n",
       "      <td>4185.15</td>\n",
       "      <td>1.0</td>\n",
       "      <td>5627.74</td>\n",
       "      <td>1.0</td>\n",
       "      <td>32252.0</td>\n",
       "      <td>65488.0</td>\n",
       "      <td>15.0</td>\n",
       "      <td>15.0</td>\n",
       "    </tr>\n",
       "  </tbody>\n",
       "</table>\n",
       "</div>"
      ],
      "text/plain": [
       "       TQ  TQ COUNT        TBSCAN  TBSCAN COUNT   SORT  SORT COUNT   FILTER  \\\n",
       "50  100.0         1  5.079190e+08            10  100.0           1  1150.29   \n",
       "51  100.0         1  5.079190e+08            10  100.0           1  1198.54   \n",
       "52  100.0         1  5.079190e+08            10  100.0           1  1150.29   \n",
       "53  100.0         1  5.079190e+08            10  100.0           1  1198.54   \n",
       "54  100.0         1  5.079253e+08            10  100.0           1  4185.15   \n",
       "\n",
       "    FILTER COUNT     HS JOIN  HS JOIN COUNT  TEMP  TEMP COUNT    GRPBY  \\\n",
       "50           1.0  1078561.89              8   5.0         5.0  1150.29   \n",
       "51           1.0  1093084.89              8   5.0         5.0  1198.54   \n",
       "52           1.0  1078561.89              8   5.0         5.0  1150.29   \n",
       "53           1.0  1093084.89              8   5.0         5.0  1198.54   \n",
       "54           1.0  2929905.60              8   5.0         5.0  4185.15   \n",
       "\n",
       "    GRPBY COUNT   UNIQUE  UNIQUE COUNT    UNION  UNION COUNT  \\\n",
       "50            1  1150.29           1.0  5627.74          1.0   \n",
       "51            1  1198.54           1.0  5627.74          1.0   \n",
       "52            1  1150.29           1.0  5627.74          1.0   \n",
       "53            1  1198.54           1.0  5627.74          1.0   \n",
       "54            1  4185.15           1.0  5627.74          1.0   \n",
       "\n",
       "    ESTIMATED_SORT_SHRHEAP_TOP  SORT_SHRHEAP_TOP  NLJOIN  NLJOIN COUNT  \n",
       "50                     31732.0           66491.0    15.0          15.0  \n",
       "51                     32435.0           71757.0    15.0          15.0  \n",
       "52                     31732.0           64661.0    15.0          15.0  \n",
       "53                     32355.0           67439.0    15.0          15.0  \n",
       "54                     32252.0           65488.0    15.0          15.0  "
      ]
     },
     "execution_count": 45,
     "metadata": {},
     "output_type": "execute_result"
    }
   ],
   "source": [
    "df.head()"
   ]
  },
  {
   "cell_type": "code",
   "execution_count": 46,
   "id": "d7b20e95",
   "metadata": {},
   "outputs": [
    {
     "data": {
      "text/plain": [
       "(85626, 22)"
      ]
     },
     "execution_count": 46,
     "metadata": {},
     "output_type": "execute_result"
    }
   ],
   "source": [
    "df.shape"
   ]
  },
  {
   "cell_type": "code",
   "execution_count": 47,
   "id": "cfa8d050",
   "metadata": {},
   "outputs": [
    {
     "data": {
      "text/plain": [
       "Index(['TQ', 'TQ COUNT', 'TBSCAN', 'TBSCAN COUNT', 'SORT', 'SORT COUNT',\n",
       "       'FILTER', 'FILTER COUNT', 'HS JOIN', 'HS JOIN COUNT', 'TEMP',\n",
       "       'TEMP COUNT', 'GRPBY', 'GRPBY COUNT', 'UNIQUE', 'UNIQUE COUNT', 'UNION',\n",
       "       'UNION COUNT', 'ESTIMATED_SORT_SHRHEAP_TOP', 'SORT_SHRHEAP_TOP',\n",
       "       'NLJOIN', 'NLJOIN COUNT'],\n",
       "      dtype='object')"
      ]
     },
     "execution_count": 47,
     "metadata": {},
     "output_type": "execute_result"
    }
   ],
   "source": [
    "df.columns"
   ]
  },
  {
   "cell_type": "markdown",
   "id": "2e41085d",
   "metadata": {},
   "source": [
    "# Converting these values to MB"
   ]
  },
  {
   "cell_type": "code",
   "execution_count": 48,
   "id": "b24e1022",
   "metadata": {},
   "outputs": [],
   "source": [
    "df['ESTIMATED_SORT_SHRHEAP_TOP'] = df['ESTIMATED_SORT_SHRHEAP_TOP'] * 4000 / 1000000\n",
    "df['SORT_SHRHEAP_TOP'] = df['SORT_SHRHEAP_TOP'] * 4000 / 1000000"
   ]
  },
  {
   "cell_type": "code",
   "execution_count": 49,
   "id": "9a425f9a",
   "metadata": {
    "scrolled": true
   },
   "outputs": [
    {
     "data": {
      "text/html": [
       "<div>\n",
       "<style scoped>\n",
       "    .dataframe tbody tr th:only-of-type {\n",
       "        vertical-align: middle;\n",
       "    }\n",
       "\n",
       "    .dataframe tbody tr th {\n",
       "        vertical-align: top;\n",
       "    }\n",
       "\n",
       "    .dataframe thead th {\n",
       "        text-align: right;\n",
       "    }\n",
       "</style>\n",
       "<table border=\"1\" class=\"dataframe\">\n",
       "  <thead>\n",
       "    <tr style=\"text-align: right;\">\n",
       "      <th></th>\n",
       "      <th>TQ</th>\n",
       "      <th>TQ COUNT</th>\n",
       "      <th>TBSCAN</th>\n",
       "      <th>TBSCAN COUNT</th>\n",
       "      <th>SORT</th>\n",
       "      <th>SORT COUNT</th>\n",
       "      <th>FILTER</th>\n",
       "      <th>FILTER COUNT</th>\n",
       "      <th>HS JOIN</th>\n",
       "      <th>HS JOIN COUNT</th>\n",
       "      <th>TEMP</th>\n",
       "      <th>TEMP COUNT</th>\n",
       "      <th>GRPBY</th>\n",
       "      <th>GRPBY COUNT</th>\n",
       "      <th>UNIQUE</th>\n",
       "      <th>UNIQUE COUNT</th>\n",
       "      <th>UNION</th>\n",
       "      <th>UNION COUNT</th>\n",
       "      <th>ESTIMATED_SORT_SHRHEAP_TOP</th>\n",
       "      <th>SORT_SHRHEAP_TOP</th>\n",
       "      <th>NLJOIN</th>\n",
       "      <th>NLJOIN COUNT</th>\n",
       "    </tr>\n",
       "  </thead>\n",
       "  <tbody>\n",
       "    <tr>\n",
       "      <th>50</th>\n",
       "      <td>100.0</td>\n",
       "      <td>1</td>\n",
       "      <td>5.079190e+08</td>\n",
       "      <td>10</td>\n",
       "      <td>100.0</td>\n",
       "      <td>1</td>\n",
       "      <td>1150.29</td>\n",
       "      <td>1.0</td>\n",
       "      <td>1078561.89</td>\n",
       "      <td>8</td>\n",
       "      <td>5.0</td>\n",
       "      <td>5.0</td>\n",
       "      <td>1150.29</td>\n",
       "      <td>1</td>\n",
       "      <td>1150.29</td>\n",
       "      <td>1.0</td>\n",
       "      <td>5627.74</td>\n",
       "      <td>1.0</td>\n",
       "      <td>126.928</td>\n",
       "      <td>265.964</td>\n",
       "      <td>15.0</td>\n",
       "      <td>15.0</td>\n",
       "    </tr>\n",
       "    <tr>\n",
       "      <th>51</th>\n",
       "      <td>100.0</td>\n",
       "      <td>1</td>\n",
       "      <td>5.079190e+08</td>\n",
       "      <td>10</td>\n",
       "      <td>100.0</td>\n",
       "      <td>1</td>\n",
       "      <td>1198.54</td>\n",
       "      <td>1.0</td>\n",
       "      <td>1093084.89</td>\n",
       "      <td>8</td>\n",
       "      <td>5.0</td>\n",
       "      <td>5.0</td>\n",
       "      <td>1198.54</td>\n",
       "      <td>1</td>\n",
       "      <td>1198.54</td>\n",
       "      <td>1.0</td>\n",
       "      <td>5627.74</td>\n",
       "      <td>1.0</td>\n",
       "      <td>129.740</td>\n",
       "      <td>287.028</td>\n",
       "      <td>15.0</td>\n",
       "      <td>15.0</td>\n",
       "    </tr>\n",
       "    <tr>\n",
       "      <th>52</th>\n",
       "      <td>100.0</td>\n",
       "      <td>1</td>\n",
       "      <td>5.079190e+08</td>\n",
       "      <td>10</td>\n",
       "      <td>100.0</td>\n",
       "      <td>1</td>\n",
       "      <td>1150.29</td>\n",
       "      <td>1.0</td>\n",
       "      <td>1078561.89</td>\n",
       "      <td>8</td>\n",
       "      <td>5.0</td>\n",
       "      <td>5.0</td>\n",
       "      <td>1150.29</td>\n",
       "      <td>1</td>\n",
       "      <td>1150.29</td>\n",
       "      <td>1.0</td>\n",
       "      <td>5627.74</td>\n",
       "      <td>1.0</td>\n",
       "      <td>126.928</td>\n",
       "      <td>258.644</td>\n",
       "      <td>15.0</td>\n",
       "      <td>15.0</td>\n",
       "    </tr>\n",
       "    <tr>\n",
       "      <th>53</th>\n",
       "      <td>100.0</td>\n",
       "      <td>1</td>\n",
       "      <td>5.079190e+08</td>\n",
       "      <td>10</td>\n",
       "      <td>100.0</td>\n",
       "      <td>1</td>\n",
       "      <td>1198.54</td>\n",
       "      <td>1.0</td>\n",
       "      <td>1093084.89</td>\n",
       "      <td>8</td>\n",
       "      <td>5.0</td>\n",
       "      <td>5.0</td>\n",
       "      <td>1198.54</td>\n",
       "      <td>1</td>\n",
       "      <td>1198.54</td>\n",
       "      <td>1.0</td>\n",
       "      <td>5627.74</td>\n",
       "      <td>1.0</td>\n",
       "      <td>129.420</td>\n",
       "      <td>269.756</td>\n",
       "      <td>15.0</td>\n",
       "      <td>15.0</td>\n",
       "    </tr>\n",
       "    <tr>\n",
       "      <th>54</th>\n",
       "      <td>100.0</td>\n",
       "      <td>1</td>\n",
       "      <td>5.079253e+08</td>\n",
       "      <td>10</td>\n",
       "      <td>100.0</td>\n",
       "      <td>1</td>\n",
       "      <td>4185.15</td>\n",
       "      <td>1.0</td>\n",
       "      <td>2929905.60</td>\n",
       "      <td>8</td>\n",
       "      <td>5.0</td>\n",
       "      <td>5.0</td>\n",
       "      <td>4185.15</td>\n",
       "      <td>1</td>\n",
       "      <td>4185.15</td>\n",
       "      <td>1.0</td>\n",
       "      <td>5627.74</td>\n",
       "      <td>1.0</td>\n",
       "      <td>129.008</td>\n",
       "      <td>261.952</td>\n",
       "      <td>15.0</td>\n",
       "      <td>15.0</td>\n",
       "    </tr>\n",
       "  </tbody>\n",
       "</table>\n",
       "</div>"
      ],
      "text/plain": [
       "       TQ  TQ COUNT        TBSCAN  TBSCAN COUNT   SORT  SORT COUNT   FILTER  \\\n",
       "50  100.0         1  5.079190e+08            10  100.0           1  1150.29   \n",
       "51  100.0         1  5.079190e+08            10  100.0           1  1198.54   \n",
       "52  100.0         1  5.079190e+08            10  100.0           1  1150.29   \n",
       "53  100.0         1  5.079190e+08            10  100.0           1  1198.54   \n",
       "54  100.0         1  5.079253e+08            10  100.0           1  4185.15   \n",
       "\n",
       "    FILTER COUNT     HS JOIN  HS JOIN COUNT  TEMP  TEMP COUNT    GRPBY  \\\n",
       "50           1.0  1078561.89              8   5.0         5.0  1150.29   \n",
       "51           1.0  1093084.89              8   5.0         5.0  1198.54   \n",
       "52           1.0  1078561.89              8   5.0         5.0  1150.29   \n",
       "53           1.0  1093084.89              8   5.0         5.0  1198.54   \n",
       "54           1.0  2929905.60              8   5.0         5.0  4185.15   \n",
       "\n",
       "    GRPBY COUNT   UNIQUE  UNIQUE COUNT    UNION  UNION COUNT  \\\n",
       "50            1  1150.29           1.0  5627.74          1.0   \n",
       "51            1  1198.54           1.0  5627.74          1.0   \n",
       "52            1  1150.29           1.0  5627.74          1.0   \n",
       "53            1  1198.54           1.0  5627.74          1.0   \n",
       "54            1  4185.15           1.0  5627.74          1.0   \n",
       "\n",
       "    ESTIMATED_SORT_SHRHEAP_TOP  SORT_SHRHEAP_TOP  NLJOIN  NLJOIN COUNT  \n",
       "50                     126.928           265.964    15.0          15.0  \n",
       "51                     129.740           287.028    15.0          15.0  \n",
       "52                     126.928           258.644    15.0          15.0  \n",
       "53                     129.420           269.756    15.0          15.0  \n",
       "54                     129.008           261.952    15.0          15.0  "
      ]
     },
     "execution_count": 49,
     "metadata": {},
     "output_type": "execute_result"
    }
   ],
   "source": [
    "df.head()"
   ]
  },
  {
   "cell_type": "code",
   "execution_count": 50,
   "id": "cd9c9956",
   "metadata": {},
   "outputs": [
    {
     "data": {
      "text/plain": [
       "Index(['TQ', 'TQ COUNT', 'TBSCAN', 'TBSCAN COUNT', 'SORT', 'SORT COUNT',\n",
       "       'FILTER', 'FILTER COUNT', 'HS JOIN', 'HS JOIN COUNT', 'TEMP',\n",
       "       'TEMP COUNT', 'GRPBY', 'GRPBY COUNT', 'UNIQUE', 'UNIQUE COUNT', 'UNION',\n",
       "       'UNION COUNT', 'ESTIMATED_SORT_SHRHEAP_TOP', 'SORT_SHRHEAP_TOP',\n",
       "       'NLJOIN', 'NLJOIN COUNT'],\n",
       "      dtype='object')"
      ]
     },
     "execution_count": 50,
     "metadata": {},
     "output_type": "execute_result"
    }
   ],
   "source": [
    "df.columns"
   ]
  },
  {
   "cell_type": "code",
   "execution_count": 51,
   "id": "223dc364",
   "metadata": {},
   "outputs": [],
   "source": [
    "df = df.copy()[['TQ', 'TQ COUNT', 'TBSCAN', 'TBSCAN COUNT', 'SORT', 'SORT COUNT',\n",
    "       'FILTER', 'FILTER COUNT', 'HS JOIN', 'HS JOIN COUNT', 'TEMP',\n",
    "       'TEMP COUNT', 'GRPBY', 'GRPBY COUNT', 'UNIQUE', 'UNIQUE COUNT', 'UNION',\n",
    "       'UNION COUNT','NLJOIN', 'NLJOIN COUNT', 'ESTIMATED_SORT_SHRHEAP_TOP', 'SORT_SHRHEAP_TOP']]"
   ]
  },
  {
   "cell_type": "code",
   "execution_count": 52,
   "id": "c737e938",
   "metadata": {},
   "outputs": [],
   "source": [
    "df.rename(columns={'ESTIMATED_SORT_SHRHEAP_TOP':'db2', 'SORT_SHRHEAP_TOP':'actual'}, inplace=True)"
   ]
  },
  {
   "cell_type": "code",
   "execution_count": 53,
   "id": "b9d0093d",
   "metadata": {},
   "outputs": [],
   "source": [
    "df.to_csv('tpcds-clean.csv', index=False)"
   ]
  },
  {
   "cell_type": "markdown",
   "id": "b3809558",
   "metadata": {},
   "source": [
    "# Partitioning the dataset into training and test sets"
   ]
  },
  {
   "cell_type": "code",
   "execution_count": 54,
   "id": "8bfbeda9",
   "metadata": {},
   "outputs": [
    {
     "name": "stdout",
     "output_type": "stream",
     "text": [
      "Index(['TQ', 'TQ COUNT', 'TBSCAN', 'TBSCAN COUNT', 'SORT', 'SORT COUNT',\n",
      "       'FILTER', 'FILTER COUNT', 'HS JOIN', 'HS JOIN COUNT', 'TEMP',\n",
      "       'TEMP COUNT', 'GRPBY', 'GRPBY COUNT', 'UNIQUE', 'UNIQUE COUNT', 'UNION',\n",
      "       'UNION COUNT', 'NLJOIN', 'NLJOIN COUNT', 'db2', 'actual'],\n",
      "      dtype='object')\n"
     ]
    }
   ],
   "source": [
    "print(df.columns)"
   ]
  },
  {
   "cell_type": "code",
   "execution_count": 55,
   "id": "60a590b6",
   "metadata": {},
   "outputs": [],
   "source": [
    "X_cols = ['TQ', 'TQ COUNT', 'TBSCAN', 'TBSCAN COUNT', 'SORT', 'SORT COUNT',\n",
    "       'FILTER', 'FILTER COUNT', 'HS JOIN', 'HS JOIN COUNT', 'TEMP',\n",
    "       'TEMP COUNT', 'GRPBY', 'GRPBY COUNT', 'UNIQUE', 'UNIQUE COUNT',\n",
    "       'db2']\n",
    "target = ['actual']"
   ]
  },
  {
   "cell_type": "code",
   "execution_count": 56,
   "id": "885873d1",
   "metadata": {},
   "outputs": [],
   "source": [
    "X, y = df[X_cols], df[target]\n",
    "\n",
    "X_train, X_test, y_train, y_test =\\\n",
    "    train_test_split(X, y, \n",
    "                     test_size=0.2, \n",
    "                     random_state=0)"
   ]
  },
  {
   "cell_type": "code",
   "execution_count": 57,
   "id": "93e30b60",
   "metadata": {},
   "outputs": [],
   "source": [
    "features = ['TQ', 'TQ COUNT', 'TBSCAN', 'TBSCAN COUNT', 'SORT', 'SORT COUNT',\n",
    "       'FILTER', 'FILTER COUNT', 'HS JOIN', 'HS JOIN COUNT', 'TEMP',\n",
    "       'TEMP COUNT', 'GRPBY', 'GRPBY COUNT', 'UNIQUE', 'UNIQUE COUNT']"
   ]
  },
  {
   "cell_type": "markdown",
   "id": "fb988534",
   "metadata": {},
   "source": [
    "# Bringing a subset of the features onto the same scale - using ColumnTransformer"
   ]
  },
  {
   "cell_type": "code",
   "execution_count": 58,
   "id": "5858ffd0",
   "metadata": {},
   "outputs": [],
   "source": [
    "c_transf = ColumnTransformer([\n",
    "        ('stdscaler', StandardScaler(), features)\n",
    "    ], remainder='passthrough')\n",
    "\n",
    "X_train_std = c_transf.fit_transform(X_train).astype(float)\n",
    "\n",
    "X_test_std = c_transf.transform(X_test).astype(float)"
   ]
  },
  {
   "cell_type": "code",
   "execution_count": 59,
   "id": "505a455a",
   "metadata": {},
   "outputs": [
    {
     "data": {
      "text/plain": [
       "(68500, 17)"
      ]
     },
     "execution_count": 59,
     "metadata": {},
     "output_type": "execute_result"
    }
   ],
   "source": [
    "X_train_std.shape"
   ]
  },
  {
   "cell_type": "code",
   "execution_count": 60,
   "id": "0378fecf",
   "metadata": {},
   "outputs": [
    {
     "data": {
      "text/html": [
       "<div>\n",
       "<style scoped>\n",
       "    .dataframe tbody tr th:only-of-type {\n",
       "        vertical-align: middle;\n",
       "    }\n",
       "\n",
       "    .dataframe tbody tr th {\n",
       "        vertical-align: top;\n",
       "    }\n",
       "\n",
       "    .dataframe thead th {\n",
       "        text-align: right;\n",
       "    }\n",
       "</style>\n",
       "<table border=\"1\" class=\"dataframe\">\n",
       "  <thead>\n",
       "    <tr style=\"text-align: right;\">\n",
       "      <th></th>\n",
       "      <th>TQ</th>\n",
       "      <th>TQ COUNT</th>\n",
       "      <th>TBSCAN</th>\n",
       "      <th>TBSCAN COUNT</th>\n",
       "      <th>SORT</th>\n",
       "      <th>SORT COUNT</th>\n",
       "      <th>FILTER</th>\n",
       "      <th>FILTER COUNT</th>\n",
       "      <th>HS JOIN</th>\n",
       "      <th>HS JOIN COUNT</th>\n",
       "      <th>TEMP</th>\n",
       "      <th>TEMP COUNT</th>\n",
       "      <th>GRPBY</th>\n",
       "      <th>GRPBY COUNT</th>\n",
       "      <th>UNIQUE</th>\n",
       "      <th>UNIQUE COUNT</th>\n",
       "      <th>db2</th>\n",
       "    </tr>\n",
       "  </thead>\n",
       "  <tbody>\n",
       "    <tr>\n",
       "      <th>65202</th>\n",
       "      <td>2177.8</td>\n",
       "      <td>2</td>\n",
       "      <td>2.899989e+08</td>\n",
       "      <td>6</td>\n",
       "      <td>1088.9</td>\n",
       "      <td>1</td>\n",
       "      <td>1088.27</td>\n",
       "      <td>1.0</td>\n",
       "      <td>364757.4</td>\n",
       "      <td>4</td>\n",
       "      <td>36.66663</td>\n",
       "      <td>2.0</td>\n",
       "      <td>10882.7</td>\n",
       "      <td>1</td>\n",
       "      <td>0.000068</td>\n",
       "      <td>2.0</td>\n",
       "      <td>72.568</td>\n",
       "    </tr>\n",
       "  </tbody>\n",
       "</table>\n",
       "</div>"
      ],
      "text/plain": [
       "           TQ  TQ COUNT        TBSCAN  TBSCAN COUNT    SORT  SORT COUNT  \\\n",
       "65202  2177.8         2  2.899989e+08             6  1088.9           1   \n",
       "\n",
       "        FILTER  FILTER COUNT   HS JOIN  HS JOIN COUNT      TEMP  TEMP COUNT  \\\n",
       "65202  1088.27           1.0  364757.4              4  36.66663         2.0   \n",
       "\n",
       "         GRPBY  GRPBY COUNT    UNIQUE  UNIQUE COUNT     db2  \n",
       "65202  10882.7            1  0.000068           2.0  72.568  "
      ]
     },
     "execution_count": 60,
     "metadata": {},
     "output_type": "execute_result"
    }
   ],
   "source": [
    "X_train.head(1)"
   ]
  },
  {
   "cell_type": "code",
   "execution_count": 61,
   "id": "3fbc2320",
   "metadata": {
    "scrolled": true
   },
   "outputs": [
    {
     "data": {
      "text/plain": [
       "array([ 2.89021101e+00,  4.47783588e+00, -1.09936299e-01, -6.31928849e-01,\n",
       "       -2.30970508e-01, -4.12469483e-01, -3.74475187e-01, -4.91026714e-01,\n",
       "       -2.03299523e-01, -5.15257460e-01, -5.07390746e-01,  6.91097277e-02,\n",
       "       -3.74356683e-01, -6.83190685e-01, -3.08535078e-01,  8.48438366e-01,\n",
       "        7.25680000e+01])"
      ]
     },
     "execution_count": 61,
     "metadata": {},
     "output_type": "execute_result"
    }
   ],
   "source": [
    "X_train_std[0]"
   ]
  },
  {
   "cell_type": "code",
   "execution_count": 62,
   "id": "2cac790f",
   "metadata": {},
   "outputs": [
    {
     "data": {
      "text/plain": [
       "(17126, 17)"
      ]
     },
     "execution_count": 62,
     "metadata": {},
     "output_type": "execute_result"
    }
   ],
   "source": [
    "X_test_std.shape"
   ]
  },
  {
   "cell_type": "markdown",
   "id": "70b4b909",
   "metadata": {},
   "source": [
    "# Converting y into np arrays"
   ]
  },
  {
   "cell_type": "code",
   "execution_count": 63,
   "id": "c37c2abe",
   "metadata": {},
   "outputs": [],
   "source": [
    "y_train = y_train.values\n",
    "y_test = y_test.values"
   ]
  },
  {
   "cell_type": "markdown",
   "id": "e01f50aa",
   "metadata": {},
   "source": [
    "# Saving training and test datasets"
   ]
  },
  {
   "cell_type": "code",
   "execution_count": 64,
   "id": "faa802c7",
   "metadata": {},
   "outputs": [
    {
     "data": {
      "text/plain": [
       "(68500, 17)"
      ]
     },
     "execution_count": 64,
     "metadata": {},
     "output_type": "execute_result"
    }
   ],
   "source": [
    "X_train.shape"
   ]
  },
  {
   "cell_type": "code",
   "execution_count": 65,
   "id": "3c14bf8e",
   "metadata": {},
   "outputs": [
    {
     "data": {
      "text/plain": [
       "(68500, 17)"
      ]
     },
     "execution_count": 65,
     "metadata": {},
     "output_type": "execute_result"
    }
   ],
   "source": [
    "X_train_std.shape"
   ]
  },
  {
   "cell_type": "code",
   "execution_count": 66,
   "id": "6b4d4a8a",
   "metadata": {},
   "outputs": [
    {
     "data": {
      "text/plain": [
       "numpy.ndarray"
      ]
     },
     "execution_count": 66,
     "metadata": {},
     "output_type": "execute_result"
    }
   ],
   "source": [
    "type(X_train_std)"
   ]
  },
  {
   "cell_type": "code",
   "execution_count": 67,
   "id": "7e6b2fc3",
   "metadata": {},
   "outputs": [],
   "source": [
    "X_train_clean = pd.DataFrame(X_train_std, columns=X_train.columns)\n",
    "X_train_clean['actual'] = y_train"
   ]
  },
  {
   "cell_type": "code",
   "execution_count": 68,
   "id": "10aa20cc",
   "metadata": {},
   "outputs": [
    {
     "data": {
      "text/html": [
       "<div>\n",
       "<style scoped>\n",
       "    .dataframe tbody tr th:only-of-type {\n",
       "        vertical-align: middle;\n",
       "    }\n",
       "\n",
       "    .dataframe tbody tr th {\n",
       "        vertical-align: top;\n",
       "    }\n",
       "\n",
       "    .dataframe thead th {\n",
       "        text-align: right;\n",
       "    }\n",
       "</style>\n",
       "<table border=\"1\" class=\"dataframe\">\n",
       "  <thead>\n",
       "    <tr style=\"text-align: right;\">\n",
       "      <th></th>\n",
       "      <th>TQ</th>\n",
       "      <th>TQ COUNT</th>\n",
       "      <th>TBSCAN</th>\n",
       "      <th>TBSCAN COUNT</th>\n",
       "      <th>SORT</th>\n",
       "      <th>SORT COUNT</th>\n",
       "      <th>FILTER</th>\n",
       "      <th>FILTER COUNT</th>\n",
       "      <th>HS JOIN</th>\n",
       "      <th>HS JOIN COUNT</th>\n",
       "      <th>TEMP</th>\n",
       "      <th>TEMP COUNT</th>\n",
       "      <th>GRPBY</th>\n",
       "      <th>GRPBY COUNT</th>\n",
       "      <th>UNIQUE</th>\n",
       "      <th>UNIQUE COUNT</th>\n",
       "      <th>db2</th>\n",
       "      <th>actual</th>\n",
       "    </tr>\n",
       "  </thead>\n",
       "  <tbody>\n",
       "    <tr>\n",
       "      <th>0</th>\n",
       "      <td>2.890211</td>\n",
       "      <td>4.477836</td>\n",
       "      <td>-0.109936</td>\n",
       "      <td>-0.631929</td>\n",
       "      <td>-0.230971</td>\n",
       "      <td>-0.412469</td>\n",
       "      <td>-0.374475</td>\n",
       "      <td>-0.491027</td>\n",
       "      <td>-0.203300</td>\n",
       "      <td>-0.515257</td>\n",
       "      <td>-0.507391</td>\n",
       "      <td>0.069110</td>\n",
       "      <td>-0.374357</td>\n",
       "      <td>-0.683191</td>\n",
       "      <td>-0.308535</td>\n",
       "      <td>0.848438</td>\n",
       "      <td>72.568</td>\n",
       "      <td>117.012</td>\n",
       "    </tr>\n",
       "    <tr>\n",
       "      <th>1</th>\n",
       "      <td>-0.096758</td>\n",
       "      <td>-0.223322</td>\n",
       "      <td>-0.550475</td>\n",
       "      <td>-0.631929</td>\n",
       "      <td>-0.233063</td>\n",
       "      <td>-0.412469</td>\n",
       "      <td>1.128013</td>\n",
       "      <td>1.235810</td>\n",
       "      <td>-0.209978</td>\n",
       "      <td>-0.515257</td>\n",
       "      <td>-0.302987</td>\n",
       "      <td>-0.532953</td>\n",
       "      <td>-0.380635</td>\n",
       "      <td>-0.683191</td>\n",
       "      <td>-0.302633</td>\n",
       "      <td>-0.621787</td>\n",
       "      <td>82.636</td>\n",
       "      <td>323.176</td>\n",
       "    </tr>\n",
       "    <tr>\n",
       "      <th>2</th>\n",
       "      <td>-0.239077</td>\n",
       "      <td>-0.223322</td>\n",
       "      <td>0.626597</td>\n",
       "      <td>-0.111590</td>\n",
       "      <td>-0.233239</td>\n",
       "      <td>-0.412469</td>\n",
       "      <td>1.128023</td>\n",
       "      <td>1.235810</td>\n",
       "      <td>-0.070599</td>\n",
       "      <td>-0.028800</td>\n",
       "      <td>-0.506675</td>\n",
       "      <td>0.069110</td>\n",
       "      <td>3.919395</td>\n",
       "      <td>0.529035</td>\n",
       "      <td>-0.302633</td>\n",
       "      <td>-0.621787</td>\n",
       "      <td>1075.884</td>\n",
       "      <td>1874.272</td>\n",
       "    </tr>\n",
       "    <tr>\n",
       "      <th>3</th>\n",
       "      <td>-0.239077</td>\n",
       "      <td>-0.223322</td>\n",
       "      <td>-0.116630</td>\n",
       "      <td>-0.978821</td>\n",
       "      <td>-0.233063</td>\n",
       "      <td>-0.412469</td>\n",
       "      <td>-0.376033</td>\n",
       "      <td>-0.491027</td>\n",
       "      <td>-0.014063</td>\n",
       "      <td>-0.758486</td>\n",
       "      <td>-0.507415</td>\n",
       "      <td>-0.532953</td>\n",
       "      <td>-0.389237</td>\n",
       "      <td>-0.683191</td>\n",
       "      <td>-0.308041</td>\n",
       "      <td>-0.621787</td>\n",
       "      <td>44.276</td>\n",
       "      <td>21.636</td>\n",
       "    </tr>\n",
       "    <tr>\n",
       "      <th>4</th>\n",
       "      <td>-0.239077</td>\n",
       "      <td>-0.223322</td>\n",
       "      <td>0.626597</td>\n",
       "      <td>-0.111590</td>\n",
       "      <td>-0.230710</td>\n",
       "      <td>0.714227</td>\n",
       "      <td>-0.230843</td>\n",
       "      <td>1.235810</td>\n",
       "      <td>-0.070600</td>\n",
       "      <td>-0.028800</td>\n",
       "      <td>-0.506675</td>\n",
       "      <td>0.069110</td>\n",
       "      <td>3.076806</td>\n",
       "      <td>0.529035</td>\n",
       "      <td>-0.308145</td>\n",
       "      <td>-0.621787</td>\n",
       "      <td>979.024</td>\n",
       "      <td>1860.684</td>\n",
       "    </tr>\n",
       "  </tbody>\n",
       "</table>\n",
       "</div>"
      ],
      "text/plain": [
       "         TQ  TQ COUNT    TBSCAN  TBSCAN COUNT      SORT  SORT COUNT    FILTER  \\\n",
       "0  2.890211  4.477836 -0.109936     -0.631929 -0.230971   -0.412469 -0.374475   \n",
       "1 -0.096758 -0.223322 -0.550475     -0.631929 -0.233063   -0.412469  1.128013   \n",
       "2 -0.239077 -0.223322  0.626597     -0.111590 -0.233239   -0.412469  1.128023   \n",
       "3 -0.239077 -0.223322 -0.116630     -0.978821 -0.233063   -0.412469 -0.376033   \n",
       "4 -0.239077 -0.223322  0.626597     -0.111590 -0.230710    0.714227 -0.230843   \n",
       "\n",
       "   FILTER COUNT   HS JOIN  HS JOIN COUNT      TEMP  TEMP COUNT     GRPBY  \\\n",
       "0     -0.491027 -0.203300      -0.515257 -0.507391    0.069110 -0.374357   \n",
       "1      1.235810 -0.209978      -0.515257 -0.302987   -0.532953 -0.380635   \n",
       "2      1.235810 -0.070599      -0.028800 -0.506675    0.069110  3.919395   \n",
       "3     -0.491027 -0.014063      -0.758486 -0.507415   -0.532953 -0.389237   \n",
       "4      1.235810 -0.070600      -0.028800 -0.506675    0.069110  3.076806   \n",
       "\n",
       "   GRPBY COUNT    UNIQUE  UNIQUE COUNT       db2    actual  \n",
       "0    -0.683191 -0.308535      0.848438    72.568   117.012  \n",
       "1    -0.683191 -0.302633     -0.621787    82.636   323.176  \n",
       "2     0.529035 -0.302633     -0.621787  1075.884  1874.272  \n",
       "3    -0.683191 -0.308041     -0.621787    44.276    21.636  \n",
       "4     0.529035 -0.308145     -0.621787   979.024  1860.684  "
      ]
     },
     "execution_count": 68,
     "metadata": {},
     "output_type": "execute_result"
    }
   ],
   "source": [
    "X_train_clean.head(5)"
   ]
  },
  {
   "cell_type": "code",
   "execution_count": 69,
   "id": "2712777d",
   "metadata": {},
   "outputs": [],
   "source": [
    "X_train_clean.to_csv('tpcds_train_clean.csv', index=False)"
   ]
  },
  {
   "cell_type": "code",
   "execution_count": 70,
   "id": "3adcd703",
   "metadata": {},
   "outputs": [],
   "source": [
    "X_test_clean = pd.DataFrame(X_test_std, columns=X_test.columns)\n",
    "X_test_clean['actual'] = y_test"
   ]
  },
  {
   "cell_type": "code",
   "execution_count": 71,
   "id": "dd5a257a",
   "metadata": {},
   "outputs": [
    {
     "data": {
      "text/html": [
       "<div>\n",
       "<style scoped>\n",
       "    .dataframe tbody tr th:only-of-type {\n",
       "        vertical-align: middle;\n",
       "    }\n",
       "\n",
       "    .dataframe tbody tr th {\n",
       "        vertical-align: top;\n",
       "    }\n",
       "\n",
       "    .dataframe thead th {\n",
       "        text-align: right;\n",
       "    }\n",
       "</style>\n",
       "<table border=\"1\" class=\"dataframe\">\n",
       "  <thead>\n",
       "    <tr style=\"text-align: right;\">\n",
       "      <th></th>\n",
       "      <th>TQ</th>\n",
       "      <th>TQ COUNT</th>\n",
       "      <th>TBSCAN</th>\n",
       "      <th>TBSCAN COUNT</th>\n",
       "      <th>SORT</th>\n",
       "      <th>SORT COUNT</th>\n",
       "      <th>FILTER</th>\n",
       "      <th>FILTER COUNT</th>\n",
       "      <th>HS JOIN</th>\n",
       "      <th>HS JOIN COUNT</th>\n",
       "      <th>TEMP</th>\n",
       "      <th>TEMP COUNT</th>\n",
       "      <th>GRPBY</th>\n",
       "      <th>GRPBY COUNT</th>\n",
       "      <th>UNIQUE</th>\n",
       "      <th>UNIQUE COUNT</th>\n",
       "      <th>db2</th>\n",
       "      <th>actual</th>\n",
       "    </tr>\n",
       "  </thead>\n",
       "  <tbody>\n",
       "    <tr>\n",
       "      <th>0</th>\n",
       "      <td>-0.240514</td>\n",
       "      <td>-0.223322</td>\n",
       "      <td>0.462542</td>\n",
       "      <td>-0.111590</td>\n",
       "      <td>-0.233275</td>\n",
       "      <td>-0.412469</td>\n",
       "      <td>-0.355816</td>\n",
       "      <td>-0.491027</td>\n",
       "      <td>-0.185196</td>\n",
       "      <td>0.214428</td>\n",
       "      <td>-0.468062</td>\n",
       "      <td>0.069110</td>\n",
       "      <td>-0.389239</td>\n",
       "      <td>-0.683191</td>\n",
       "      <td>-0.302955</td>\n",
       "      <td>0.848438</td>\n",
       "      <td>209.584</td>\n",
       "      <td>158.860</td>\n",
       "    </tr>\n",
       "    <tr>\n",
       "      <th>1</th>\n",
       "      <td>-0.240514</td>\n",
       "      <td>-0.223322</td>\n",
       "      <td>0.775236</td>\n",
       "      <td>0.061856</td>\n",
       "      <td>-0.233275</td>\n",
       "      <td>-0.412469</td>\n",
       "      <td>-0.376034</td>\n",
       "      <td>-0.491027</td>\n",
       "      <td>-0.142859</td>\n",
       "      <td>0.457657</td>\n",
       "      <td>-0.506034</td>\n",
       "      <td>0.671172</td>\n",
       "      <td>-0.389239</td>\n",
       "      <td>0.529035</td>\n",
       "      <td>3.263571</td>\n",
       "      <td>-0.621787</td>\n",
       "      <td>291.488</td>\n",
       "      <td>2618.864</td>\n",
       "    </tr>\n",
       "    <tr>\n",
       "      <th>2</th>\n",
       "      <td>-0.240514</td>\n",
       "      <td>-0.223322</td>\n",
       "      <td>0.619996</td>\n",
       "      <td>0.061856</td>\n",
       "      <td>-0.233275</td>\n",
       "      <td>-0.412469</td>\n",
       "      <td>3.328263</td>\n",
       "      <td>-0.491027</td>\n",
       "      <td>-0.187562</td>\n",
       "      <td>0.457657</td>\n",
       "      <td>4.665741</td>\n",
       "      <td>3.681484</td>\n",
       "      <td>-0.389239</td>\n",
       "      <td>-0.683191</td>\n",
       "      <td>-0.308535</td>\n",
       "      <td>-0.621787</td>\n",
       "      <td>242.508</td>\n",
       "      <td>228.172</td>\n",
       "    </tr>\n",
       "    <tr>\n",
       "      <th>3</th>\n",
       "      <td>-0.096758</td>\n",
       "      <td>-0.223322</td>\n",
       "      <td>-0.829048</td>\n",
       "      <td>-0.458483</td>\n",
       "      <td>-0.233063</td>\n",
       "      <td>-0.412469</td>\n",
       "      <td>-0.242231</td>\n",
       "      <td>-0.491027</td>\n",
       "      <td>-0.200314</td>\n",
       "      <td>-0.272029</td>\n",
       "      <td>-0.462133</td>\n",
       "      <td>-0.532953</td>\n",
       "      <td>-0.261471</td>\n",
       "      <td>-0.683191</td>\n",
       "      <td>-0.302150</td>\n",
       "      <td>0.848438</td>\n",
       "      <td>377.412</td>\n",
       "      <td>393.260</td>\n",
       "    </tr>\n",
       "    <tr>\n",
       "      <th>4</th>\n",
       "      <td>2.904989</td>\n",
       "      <td>4.477836</td>\n",
       "      <td>-0.109936</td>\n",
       "      <td>-0.631929</td>\n",
       "      <td>-0.230960</td>\n",
       "      <td>-0.412469</td>\n",
       "      <td>-0.374468</td>\n",
       "      <td>-0.491027</td>\n",
       "      <td>-0.203295</td>\n",
       "      <td>-0.515257</td>\n",
       "      <td>-0.507391</td>\n",
       "      <td>0.069110</td>\n",
       "      <td>-0.374286</td>\n",
       "      <td>-0.683191</td>\n",
       "      <td>-0.308535</td>\n",
       "      <td>0.848438</td>\n",
       "      <td>72.556</td>\n",
       "      <td>116.456</td>\n",
       "    </tr>\n",
       "  </tbody>\n",
       "</table>\n",
       "</div>"
      ],
      "text/plain": [
       "         TQ  TQ COUNT    TBSCAN  TBSCAN COUNT      SORT  SORT COUNT    FILTER  \\\n",
       "0 -0.240514 -0.223322  0.462542     -0.111590 -0.233275   -0.412469 -0.355816   \n",
       "1 -0.240514 -0.223322  0.775236      0.061856 -0.233275   -0.412469 -0.376034   \n",
       "2 -0.240514 -0.223322  0.619996      0.061856 -0.233275   -0.412469  3.328263   \n",
       "3 -0.096758 -0.223322 -0.829048     -0.458483 -0.233063   -0.412469 -0.242231   \n",
       "4  2.904989  4.477836 -0.109936     -0.631929 -0.230960   -0.412469 -0.374468   \n",
       "\n",
       "   FILTER COUNT   HS JOIN  HS JOIN COUNT      TEMP  TEMP COUNT     GRPBY  \\\n",
       "0     -0.491027 -0.185196       0.214428 -0.468062    0.069110 -0.389239   \n",
       "1     -0.491027 -0.142859       0.457657 -0.506034    0.671172 -0.389239   \n",
       "2     -0.491027 -0.187562       0.457657  4.665741    3.681484 -0.389239   \n",
       "3     -0.491027 -0.200314      -0.272029 -0.462133   -0.532953 -0.261471   \n",
       "4     -0.491027 -0.203295      -0.515257 -0.507391    0.069110 -0.374286   \n",
       "\n",
       "   GRPBY COUNT    UNIQUE  UNIQUE COUNT      db2    actual  \n",
       "0    -0.683191 -0.302955      0.848438  209.584   158.860  \n",
       "1     0.529035  3.263571     -0.621787  291.488  2618.864  \n",
       "2    -0.683191 -0.308535     -0.621787  242.508   228.172  \n",
       "3    -0.683191 -0.302150      0.848438  377.412   393.260  \n",
       "4    -0.683191 -0.308535      0.848438   72.556   116.456  "
      ]
     },
     "execution_count": 71,
     "metadata": {},
     "output_type": "execute_result"
    }
   ],
   "source": [
    "X_test_clean.head(5)"
   ]
  },
  {
   "cell_type": "code",
   "execution_count": 72,
   "id": "c7b7dd36",
   "metadata": {},
   "outputs": [],
   "source": [
    "X_test_clean.to_csv('tpcds_test_clean.csv', index=False)"
   ]
  }
 ],
 "metadata": {
  "kernelspec": {
   "display_name": "env",
   "language": "python",
   "name": "python3"
  },
  "language_info": {
   "codemirror_mode": {
    "name": "ipython",
    "version": 3
   },
   "file_extension": ".py",
   "mimetype": "text/x-python",
   "name": "python",
   "nbconvert_exporter": "python",
   "pygments_lexer": "ipython3",
   "version": "3.11.3 (v3.11.3:f3909b8bc8, Apr  4 2023, 20:12:10) [Clang 13.0.0 (clang-1300.0.29.30)]"
  },
  "vscode": {
   "interpreter": {
    "hash": "3a466aaca05f99992355058fd211f5f1ccaafc4256e27d44cd1d3121623e9a21"
   }
  }
 },
 "nbformat": 4,
 "nbformat_minor": 5
}
